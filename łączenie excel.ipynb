{
 "cells": [
  {
   "cell_type": "code",
   "execution_count": 2,
   "metadata": {},
   "outputs": [],
   "source": [
    "import os\n",
    "import pandas as pd\n",
    "\n",
    "# Ścieżka do folderu zawierającego pliki Excel\n",
    "folder_path = r'C:\\Users\\mikol\\OneDrive\\Pulpit\\data\\prognozy\\wyniki_LSTM\\batch_size\\bledy'\n",
    "\n",
    "# Lista plików w folderze\n",
    "file_list = os.listdir(folder_path)\n",
    "\n",
    "# Tworzenie pustego DataFrame'a do przechowywania wyników scalania\n",
    "merged_df =pd.DataFrame()\n"
   ]
  },
  {
   "cell_type": "code",
   "execution_count": null,
   "metadata": {},
   "outputs": [],
   "source": [
    "folder_path = r'C:\\Users\\mikol\\OneDrive\\Pulpit\\data\\prognozy\\wyniki_LSTM\\batch_size\\bledy'"
   ]
  },
  {
   "cell_type": "code",
   "execution_count": 2,
   "metadata": {},
   "outputs": [
    {
     "name": "stdout",
     "output_type": "stream",
     "text": [
      "Dane zostały połączone i zapisane.\n"
     ]
    }
   ],
   "source": [
    "import pandas as pd\n",
    "import os\n",
    "\n",
    "# Ścieżka do folderu, w którym znajdują się pliki Excel\n",
    "folder_path = r'C:\\Users\\mikol\\OneDrive\\Pulpit\\data\\prognozy\\wyniki_LSTM\\time_Steps\\bledy'\n",
    "\n",
    "# DataFrame, który będzie przechowywać wszystkie dane\n",
    "merged_data = pd.DataFrame()\n",
    "\n",
    "# Przechodzenie przez wszystkie pliki w folderze\n",
    "for filename in os.listdir(folder_path):\n",
    "    if filename.endswith('.xlsx'):  # Sprawdź, czy plik to Excel\n",
    "        file_path = os.path.join(folder_path, filename)\n",
    "        df = pd.read_excel(file_path)  # Wczytaj plik Excel do DataFrame\n",
    "        column_name = os.path.splitext(filename)[0]  # Pobierz nazwę pliku bez rozszerzenia\n",
    "        merged_data[column_name] = df['Value']  # Dodaj kolumnę z nazwą pliku jako nagłówkiem\n",
    "\n",
    "# Zapisz połączone dane do nowego pliku Excel\n",
    "merged_data.to_excel('polaczone_dane.xlsx', index=False)\n",
    "\n",
    "print(\"Dane zostały połączone i zapisane.\")"
   ]
  },
  {
   "cell_type": "code",
   "execution_count": null,
   "metadata": {},
   "outputs": [],
   "source": []
  }
 ],
 "metadata": {
  "kernelspec": {
   "display_name": "Python 3",
   "language": "python",
   "name": "python3"
  },
  "language_info": {
   "codemirror_mode": {
    "name": "ipython",
    "version": 3
   },
   "file_extension": ".py",
   "mimetype": "text/x-python",
   "name": "python",
   "nbconvert_exporter": "python",
   "pygments_lexer": "ipython3",
   "version": "3.10.11"
  },
  "orig_nbformat": 4
 },
 "nbformat": 4,
 "nbformat_minor": 2
}
