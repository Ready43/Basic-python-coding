{
 "cells": [
  {
   "cell_type": "code",
   "execution_count": 1,
   "metadata": {},
   "outputs": [],
   "source": [
    "import pandas as pd\n",
    "import matplotlib.pyplot as plt\n",
    "from sklearn.metrics import mean_squared_error, r2_score, mean_absolute_percentage_error \n",
    "from statsmodels.tools.eval_measures import meanabs,mse,rmse,rmspe,stde\n",
    "import os\n",
    "\n",
    "result_folder = 'regresja liniowa'\n",
    "os.makedirs(result_folder, exist_ok=True)\n",
    "\n"
   ]
  },
  {
   "cell_type": "markdown",
   "metadata": {},
   "source": [
    "model regresjii \n",
    "667,457849\n",
    "-0,049223043\n"
   ]
  },
  {
   "cell_type": "code",
   "execution_count": 2,
   "metadata": {},
   "outputs": [
    {
     "name": "stdout",
     "output_type": "stream",
     "text": [
      "                    Data  Ceny energii    Prognoza\n",
      "0    2023-01-01 00:00:00         75.01  667.408626\n",
      "1    2023-01-01 01:00:00         29.43  667.359403\n",
      "2    2023-01-01 02:00:00         29.05  667.310180\n",
      "3    2023-01-01 03:00:00         29.26  667.260957\n",
      "4    2023-01-01 04:00:00         28.94  667.211734\n",
      "...                  ...           ...         ...\n",
      "3619 2023-05-31 19:00:00        682.06  489.270435\n",
      "3620 2023-05-31 20:00:00        685.75  489.221212\n",
      "3621 2023-05-31 21:00:00        682.23  489.171989\n",
      "3622 2023-05-31 22:00:00        655.77  489.122766\n",
      "3623 2023-05-31 23:00:00        528.65  489.073543\n",
      "\n",
      "[3624 rows x 3 columns]\n"
     ]
    }
   ],
   "source": [
    "# Wczytaj dane z pliku Excel\n",
    "\n",
    "df = pd.read_excel('ceny_stand.xlsx',sheet_name=1)\n",
    "# Konwertuj kolumnę \"Data\" na typ daty\n",
    "df['Data'] = pd.to_datetime(df['Data'], format='%d.%m.%Y %H:%M')\n",
    "print(df)\n",
    "procentowa = (int(len(df)*0.2))\n",
    "df_20 = df [-procentowa:]\n",
    "x = df_20['Data']\n",
    "y = df_20['Ceny energii']\n",
    "y_prog = df_20['Prognoza']"
   ]
  },
  {
   "cell_type": "code",
   "execution_count": 9,
   "metadata": {},
   "outputs": [],
   "source": [
    "plt.figure(figsize=(12,6), dpi=1000)\n",
    "plt.plot(x,y_prog, label= 'Model regresji liniowej')\n",
    "plt.plot(x, y, label= 'Ceny energii', linestyle='dashed')\n",
    "plt.xlabel('Godzina (iteracyjna)')\n",
    "plt.ylabel('Cena energii [zł/kWh]')\n",
    "plt.legend(loc='upper left')\n",
    "\n",
    "nazw_wykresow = f'model_regresji.png'\n",
    "plot_filepath = os.path.join(result_folder, 'wykres_'+ nazw_wykresow)\n",
    "plt.savefig(plot_filepath)  # Zapisz wykres jako plik PNG\n",
    "plt.close()"
   ]
  },
  {
   "cell_type": "code",
   "execution_count": null,
   "metadata": {},
   "outputs": [],
   "source": [
    "from sklearn.metrics import mean_squared_error, r2_score, mean_absolute_percentage_error \n",
    "from statsmodels.tools.eval_measures import meanabs,mse,rmse,rmspe,stde\n",
    "\n",
    "mse = mean_squared_error(y, y_prog)\n",
    "RMSE = mean_squared_error(y, y_prog, squared=False)\n",
    "MAPE = mean_absolute_percentage_error(y, y_prog)\n",
    "errorstde = stde(y, y_prog)\n",
    "errormeanabs = meanabs(y, y_prog)\n",
    "errorrmspe = rmspe(y, y_prog)\n",
    "\n",
    "r2 = r2_score(y, y_prog)\n",
    "\n",
    "results = {\n",
    "     'Metric': ['Mean Absolute', 'MSE', 'RMSE', 'Root Mean Squared Percentage RMSPE', 'STDE', 'MAPE', 'R2'],\n",
    "    'Value': [errormeanabs, mse, RMSE, errorrmspe, errorstde, MAPE, r2]}\n",
    "\n",
    "blad_df = pd.DataFrame(results, index=['Średni błąd bezwzględny (MAE)', 'Średni błąd kwadratowy (MSE)', 'Pierwiastek błędu średniokwadratowego (RMSE)', \n",
    "             'Pierwiastek średniego błędu procentowego (RMSPE)', 'Standard Error(STDE)', 'MAPE', 'R2'])\n",
    "filename_excel = f'regresja liniowa.xlsx'\n",
    "blad_filepath = os.path.join(result_folder, 'bledy_'+ filename_excel)\n",
    "blad_df.to_excel(blad_filepath, index=False)"
   ]
  },
  {
   "cell_type": "code",
   "execution_count": null,
   "metadata": {},
   "outputs": [],
   "source": []
  },
  {
   "cell_type": "markdown",
   "metadata": {},
   "source": [
    "### Model średniej ruchomej"
   ]
  },
  {
   "cell_type": "code",
   "execution_count": 9,
   "metadata": {},
   "outputs": [
    {
     "name": "stdout",
     "output_type": "stream",
     "text": [
      "                    Data  Ceny energii  Srednia ruchoma\n",
      "0    2023-01-01 00:00:00         75.01              NaN\n",
      "1    2023-01-01 01:00:00         29.43              NaN\n",
      "2    2023-01-01 02:00:00         29.05              NaN\n",
      "3    2023-01-01 03:00:00         29.26              NaN\n",
      "4    2023-01-01 04:00:00         28.94              NaN\n",
      "...                  ...           ...              ...\n",
      "3619 2023-05-31 19:00:00        682.06       472.695000\n",
      "3620 2023-05-31 20:00:00        685.75       481.225000\n",
      "3621 2023-05-31 21:00:00        682.23       496.841667\n",
      "3622 2023-05-31 22:00:00        655.77       518.008333\n",
      "3623 2023-05-31 23:00:00        528.65       531.000833\n",
      "\n",
      "[3624 rows x 3 columns]\n"
     ]
    }
   ],
   "source": [
    "# Wczytaj dane z pliku CSV\n",
    "data = pd.read_excel('ceny_stand.xlsx', sheet_name=0)\n",
    "\n",
    "# Konwertuj kolumnę \"Data\" na typ daty\n",
    "data['Data'] = pd.to_datetime(data['Data'], format='%d.%m.%Y %H:%M')\n",
    "\n",
    "# Sortuj dane wg daty\n",
    "data.sort_values(by='Data', inplace=True)\n",
    "\n",
    "# Wybierz kolumny potrzebne do obliczeń\n",
    "data = data[['Data', 'Ceny energii']]\n",
    "\n",
    "# Określ okres średniej ruchomej (np. 3 godziny)\n",
    "moving_average_window = 12\n",
    "\n",
    "# Oblicz średnią ruchomą\n",
    "data['Srednia ruchoma'] = data['Ceny energii'].rolling(window=moving_average_window).mean()\n",
    "\n",
    "# Wydrukuj wynik\n",
    "#print(data)\n",
    "\n",
    "predykcja = data[-len(data):]\n",
    "\n",
    "print(predykcja)\n",
    "\n",
    "# mse = mean_squared_error(y_wycinka, y_pred)\n",
    "# RMSE = mean_squared_error(y_wycinka, y_pred, squared=False)\n",
    "# MAPE = mean_absolute_percentage_error(y_wycinka, y_pred)\n"
   ]
  }
 ],
 "metadata": {
  "kernelspec": {
   "display_name": "Python 3",
   "language": "python",
   "name": "python3"
  },
  "language_info": {
   "codemirror_mode": {
    "name": "ipython",
    "version": 3
   },
   "file_extension": ".py",
   "mimetype": "text/x-python",
   "name": "python",
   "nbconvert_exporter": "python",
   "pygments_lexer": "ipython3",
   "version": "3.10.11"
  },
  "orig_nbformat": 4
 },
 "nbformat": 4,
 "nbformat_minor": 2
}
